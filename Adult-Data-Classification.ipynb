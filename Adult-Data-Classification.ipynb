{
 "cells": [
  {
   "cell_type": "markdown",
   "metadata": {},
   "source": [
    "# Logistic Regression: \n",
    "## Predict whether a person makes over 50K per year using the Census Income Data Set"
   ]
  },
  {
   "cell_type": "markdown",
   "metadata": {},
   "source": [
    "### Train Data Set\n",
    "Obtain & Clean"
   ]
  },
  {
   "cell_type": "code",
   "execution_count": 1,
   "metadata": {},
   "outputs": [
    {
     "data": {
      "text/html": [
       "<div>\n",
       "<style scoped>\n",
       "    .dataframe tbody tr th:only-of-type {\n",
       "        vertical-align: middle;\n",
       "    }\n",
       "\n",
       "    .dataframe tbody tr th {\n",
       "        vertical-align: top;\n",
       "    }\n",
       "\n",
       "    .dataframe thead th {\n",
       "        text-align: right;\n",
       "    }\n",
       "</style>\n",
       "<table border=\"1\" class=\"dataframe\">\n",
       "  <thead>\n",
       "    <tr style=\"text-align: right;\">\n",
       "      <th></th>\n",
       "      <th>0</th>\n",
       "      <th>1</th>\n",
       "      <th>2</th>\n",
       "      <th>3</th>\n",
       "      <th>4</th>\n",
       "      <th>5</th>\n",
       "      <th>6</th>\n",
       "      <th>7</th>\n",
       "      <th>8</th>\n",
       "      <th>9</th>\n",
       "      <th>10</th>\n",
       "      <th>11</th>\n",
       "      <th>12</th>\n",
       "      <th>13</th>\n",
       "      <th>14</th>\n",
       "    </tr>\n",
       "  </thead>\n",
       "  <tbody>\n",
       "    <tr>\n",
       "      <th>0</th>\n",
       "      <td>39</td>\n",
       "      <td>State-gov</td>\n",
       "      <td>77516</td>\n",
       "      <td>Bachelors</td>\n",
       "      <td>13</td>\n",
       "      <td>Never-married</td>\n",
       "      <td>Adm-clerical</td>\n",
       "      <td>Not-in-family</td>\n",
       "      <td>White</td>\n",
       "      <td>Male</td>\n",
       "      <td>2174</td>\n",
       "      <td>0</td>\n",
       "      <td>40</td>\n",
       "      <td>United-States</td>\n",
       "      <td>&lt;=50K</td>\n",
       "    </tr>\n",
       "    <tr>\n",
       "      <th>1</th>\n",
       "      <td>50</td>\n",
       "      <td>Self-emp-not-inc</td>\n",
       "      <td>83311</td>\n",
       "      <td>Bachelors</td>\n",
       "      <td>13</td>\n",
       "      <td>Married-civ-spouse</td>\n",
       "      <td>Exec-managerial</td>\n",
       "      <td>Husband</td>\n",
       "      <td>White</td>\n",
       "      <td>Male</td>\n",
       "      <td>0</td>\n",
       "      <td>0</td>\n",
       "      <td>13</td>\n",
       "      <td>United-States</td>\n",
       "      <td>&lt;=50K</td>\n",
       "    </tr>\n",
       "    <tr>\n",
       "      <th>2</th>\n",
       "      <td>38</td>\n",
       "      <td>Private</td>\n",
       "      <td>215646</td>\n",
       "      <td>HS-grad</td>\n",
       "      <td>9</td>\n",
       "      <td>Divorced</td>\n",
       "      <td>Handlers-cleaners</td>\n",
       "      <td>Not-in-family</td>\n",
       "      <td>White</td>\n",
       "      <td>Male</td>\n",
       "      <td>0</td>\n",
       "      <td>0</td>\n",
       "      <td>40</td>\n",
       "      <td>United-States</td>\n",
       "      <td>&lt;=50K</td>\n",
       "    </tr>\n",
       "    <tr>\n",
       "      <th>3</th>\n",
       "      <td>53</td>\n",
       "      <td>Private</td>\n",
       "      <td>234721</td>\n",
       "      <td>11th</td>\n",
       "      <td>7</td>\n",
       "      <td>Married-civ-spouse</td>\n",
       "      <td>Handlers-cleaners</td>\n",
       "      <td>Husband</td>\n",
       "      <td>Black</td>\n",
       "      <td>Male</td>\n",
       "      <td>0</td>\n",
       "      <td>0</td>\n",
       "      <td>40</td>\n",
       "      <td>United-States</td>\n",
       "      <td>&lt;=50K</td>\n",
       "    </tr>\n",
       "    <tr>\n",
       "      <th>4</th>\n",
       "      <td>28</td>\n",
       "      <td>Private</td>\n",
       "      <td>338409</td>\n",
       "      <td>Bachelors</td>\n",
       "      <td>13</td>\n",
       "      <td>Married-civ-spouse</td>\n",
       "      <td>Prof-specialty</td>\n",
       "      <td>Wife</td>\n",
       "      <td>Black</td>\n",
       "      <td>Female</td>\n",
       "      <td>0</td>\n",
       "      <td>0</td>\n",
       "      <td>40</td>\n",
       "      <td>Cuba</td>\n",
       "      <td>&lt;=50K</td>\n",
       "    </tr>\n",
       "    <tr>\n",
       "      <th>5</th>\n",
       "      <td>37</td>\n",
       "      <td>Private</td>\n",
       "      <td>284582</td>\n",
       "      <td>Masters</td>\n",
       "      <td>14</td>\n",
       "      <td>Married-civ-spouse</td>\n",
       "      <td>Exec-managerial</td>\n",
       "      <td>Wife</td>\n",
       "      <td>White</td>\n",
       "      <td>Female</td>\n",
       "      <td>0</td>\n",
       "      <td>0</td>\n",
       "      <td>40</td>\n",
       "      <td>United-States</td>\n",
       "      <td>&lt;=50K</td>\n",
       "    </tr>\n",
       "    <tr>\n",
       "      <th>6</th>\n",
       "      <td>49</td>\n",
       "      <td>Private</td>\n",
       "      <td>160187</td>\n",
       "      <td>9th</td>\n",
       "      <td>5</td>\n",
       "      <td>Married-spouse-absent</td>\n",
       "      <td>Other-service</td>\n",
       "      <td>Not-in-family</td>\n",
       "      <td>Black</td>\n",
       "      <td>Female</td>\n",
       "      <td>0</td>\n",
       "      <td>0</td>\n",
       "      <td>16</td>\n",
       "      <td>Jamaica</td>\n",
       "      <td>&lt;=50K</td>\n",
       "    </tr>\n",
       "    <tr>\n",
       "      <th>7</th>\n",
       "      <td>52</td>\n",
       "      <td>Self-emp-not-inc</td>\n",
       "      <td>209642</td>\n",
       "      <td>HS-grad</td>\n",
       "      <td>9</td>\n",
       "      <td>Married-civ-spouse</td>\n",
       "      <td>Exec-managerial</td>\n",
       "      <td>Husband</td>\n",
       "      <td>White</td>\n",
       "      <td>Male</td>\n",
       "      <td>0</td>\n",
       "      <td>0</td>\n",
       "      <td>45</td>\n",
       "      <td>United-States</td>\n",
       "      <td>&gt;50K</td>\n",
       "    </tr>\n",
       "  </tbody>\n",
       "</table>\n",
       "</div>"
      ],
      "text/plain": [
       "   0                  1       2           3   4                       5   \\\n",
       "0  39          State-gov   77516   Bachelors  13           Never-married   \n",
       "1  50   Self-emp-not-inc   83311   Bachelors  13      Married-civ-spouse   \n",
       "2  38            Private  215646     HS-grad   9                Divorced   \n",
       "3  53            Private  234721        11th   7      Married-civ-spouse   \n",
       "4  28            Private  338409   Bachelors  13      Married-civ-spouse   \n",
       "5  37            Private  284582     Masters  14      Married-civ-spouse   \n",
       "6  49            Private  160187         9th   5   Married-spouse-absent   \n",
       "7  52   Self-emp-not-inc  209642     HS-grad   9      Married-civ-spouse   \n",
       "\n",
       "                   6               7       8        9     10  11  12  \\\n",
       "0        Adm-clerical   Not-in-family   White     Male  2174   0  40   \n",
       "1     Exec-managerial         Husband   White     Male     0   0  13   \n",
       "2   Handlers-cleaners   Not-in-family   White     Male     0   0  40   \n",
       "3   Handlers-cleaners         Husband   Black     Male     0   0  40   \n",
       "4      Prof-specialty            Wife   Black   Female     0   0  40   \n",
       "5     Exec-managerial            Wife   White   Female     0   0  40   \n",
       "6       Other-service   Not-in-family   Black   Female     0   0  16   \n",
       "7     Exec-managerial         Husband   White     Male     0   0  45   \n",
       "\n",
       "               13      14  \n",
       "0   United-States   <=50K  \n",
       "1   United-States   <=50K  \n",
       "2   United-States   <=50K  \n",
       "3   United-States   <=50K  \n",
       "4            Cuba   <=50K  \n",
       "5   United-States   <=50K  \n",
       "6         Jamaica   <=50K  \n",
       "7   United-States    >50K  "
      ]
     },
     "execution_count": 1,
     "metadata": {},
     "output_type": "execute_result"
    }
   ],
   "source": [
    "import pandas as pd\n",
    "import numpy as np\n",
    "import matplotlib.pyplot as plt\n",
    "import os\n",
    "os.getcwd()\n",
    "\n",
    "df = pd.read_csv(\"/Users/zhanebennett/Downloads/Adult//adult.data\", header=None)\n",
    "df = df.iloc[0:16281]  #train and test datasets need to be the same size\n",
    "df.head(8)     # with this command you can see your file"
   ]
  },
  {
   "cell_type": "code",
   "execution_count": 2,
   "metadata": {},
   "outputs": [
    {
     "data": {
      "text/html": [
       "<div>\n",
       "<style scoped>\n",
       "    .dataframe tbody tr th:only-of-type {\n",
       "        vertical-align: middle;\n",
       "    }\n",
       "\n",
       "    .dataframe tbody tr th {\n",
       "        vertical-align: top;\n",
       "    }\n",
       "\n",
       "    .dataframe thead th {\n",
       "        text-align: right;\n",
       "    }\n",
       "</style>\n",
       "<table border=\"1\" class=\"dataframe\">\n",
       "  <thead>\n",
       "    <tr style=\"text-align: right;\">\n",
       "      <th></th>\n",
       "      <th>age</th>\n",
       "      <th>workclass</th>\n",
       "      <th>fnlwgt</th>\n",
       "      <th>education</th>\n",
       "      <th>education-num</th>\n",
       "      <th>marital-status</th>\n",
       "      <th>occupation</th>\n",
       "      <th>relationship</th>\n",
       "      <th>race</th>\n",
       "      <th>sex</th>\n",
       "      <th>capital-gain</th>\n",
       "      <th>capital-loss</th>\n",
       "      <th>hours-per-week</th>\n",
       "      <th>native-country</th>\n",
       "      <th>income</th>\n",
       "    </tr>\n",
       "  </thead>\n",
       "  <tbody>\n",
       "    <tr>\n",
       "      <th>0</th>\n",
       "      <td>39</td>\n",
       "      <td>State-gov</td>\n",
       "      <td>77516</td>\n",
       "      <td>Bachelors</td>\n",
       "      <td>13</td>\n",
       "      <td>Never-married</td>\n",
       "      <td>Adm-clerical</td>\n",
       "      <td>Not-in-family</td>\n",
       "      <td>White</td>\n",
       "      <td>Male</td>\n",
       "      <td>2174</td>\n",
       "      <td>0</td>\n",
       "      <td>40</td>\n",
       "      <td>United-States</td>\n",
       "      <td>&lt;=50K</td>\n",
       "    </tr>\n",
       "  </tbody>\n",
       "</table>\n",
       "</div>"
      ],
      "text/plain": [
       "   age   workclass  fnlwgt   education  education-num  marital-status  \\\n",
       "0   39   State-gov   77516   Bachelors             13   Never-married   \n",
       "\n",
       "      occupation    relationship    race    sex  capital-gain  capital-loss  \\\n",
       "0   Adm-clerical   Not-in-family   White   Male          2174             0   \n",
       "\n",
       "   hours-per-week  native-country  income  \n",
       "0              40   United-States   <=50K  "
      ]
     },
     "execution_count": 2,
     "metadata": {},
     "output_type": "execute_result"
    }
   ],
   "source": [
    "df.columns = ['age', 'workclass', 'fnlwgt', 'education', 'education-num', 'marital-status', 'occupation', 'relationship',\n",
    "             'race', 'sex', 'capital-gain', 'capital-loss', 'hours-per-week', 'native-country', 'income']\n",
    "df.head(1)"
   ]
  },
  {
   "cell_type": "markdown",
   "metadata": {},
   "source": [
    "Explore"
   ]
  },
  {
   "cell_type": "code",
   "execution_count": 3,
   "metadata": {
    "scrolled": true
   },
   "outputs": [
    {
     "name": "stdout",
     "output_type": "stream",
     "text": [
      "0    39\n",
      "Name: age, dtype: int64 \n",
      " 0     <=50K\n",
      "Name: income, dtype: object\n"
     ]
    }
   ],
   "source": [
    "age = df['age']\n",
    "income = df['income']\n",
    "print(age.head(1), \"\\n\", income.head(1))"
   ]
  },
  {
   "cell_type": "code",
   "execution_count": 4,
   "metadata": {
    "scrolled": false
   },
   "outputs": [
    {
     "data": {
      "image/png": "[encoded data removed]",
      "text/plain": [
       "<Figure size 576x432 with 1 Axes>"
      ]
     },
     "metadata": {
      "needs_background": "light"
     },
     "output_type": "display_data"
    }
   ],
   "source": [
    "fig = plt.figure(figsize=(8,6))\n",
    "fig.suptitle('age (continuous) vs income (binary)', fontsize=16)\n",
    "plt.scatter(age, income);\n",
    "plt.xlabel(\"age\", fontsize=16)\n",
    "plt.ylabel(\"monthly income\", fontsize=16)\n",
    "plt.show();"
   ]
  },
  {
   "cell_type": "code",
   "execution_count": 5,
   "metadata": {},
   "outputs": [
    {
     "data": {
      "image/png": "[encoded data removed]",
      "text/plain": [
       "<Figure size 576x432 with 1 Axes>"
      ]
     },
     "metadata": {
      "needs_background": "light"
     },
     "output_type": "display_data"
    }
   ],
   "source": [
    "income_bin = income == \" >50K\"\n",
    "income_bin = income_bin.astype(int)\n",
    "income_bin.head()\n",
    "fig = plt.figure(figsize=(8,6))\n",
    "fig.suptitle(\"age vs income\", fontsize=16)\n",
    "plt.scatter(age, income_bin)\n",
    "plt.xlabel(\"age\", fontsize=16)\n",
    "plt.ylabel(\"monthly income (probability)\", fontsize=16);"
   ]
  },
  {
   "cell_type": "markdown",
   "metadata": {},
   "source": [
    "Model"
   ]
  },
  {
   "cell_type": "code",
   "execution_count": 6,
   "metadata": {
    "scrolled": true
   },
   "outputs": [
    {
     "name": "stdout",
     "output_type": "stream",
     "text": [
      "LogisticRegression(C=100000.0, class_weight=None, dual=False,\n",
      "                   fit_intercept=True, intercept_scaling=1, l1_ratio=None,\n",
      "                   max_iter=100, multi_class='warn', n_jobs=None, penalty='l2',\n",
      "                   random_state=None, solver='lbfgs', tol=0.0001, verbose=0,\n",
      "                   warm_start=False)\n"
     ]
    }
   ],
   "source": [
    "from sklearn.linear_model import LogisticRegression\n",
    "from sklearn.linear_model import LinearRegression\n",
    "\n",
    "regr = LogisticRegression(C=1e5, solver='lbfgs')\n",
    "age = age.values  #turns series object into an array object\n",
    "age = age.reshape(-1, 1)\n",
    "model_log = regr.fit(age, income_bin)\n",
    "print(model_log)"
   ]
  },
  {
   "cell_type": "code",
   "execution_count": 7,
   "metadata": {},
   "outputs": [
    {
     "data": {
      "image/png": "[encoded data removed]",
      "text/plain": [
       "<Figure size 576x432 with 1 Axes>"
      ]
     },
     "metadata": {
      "needs_background": "light"
     },
     "output_type": "display_data"
    }
   ],
   "source": [
    "coef = regr.coef_\n",
    "interc = regr.intercept_\n",
    "\n",
    "lin_pred = (age * coef + interc)    #linear prefictor\n",
    "mod_income = 1 / ( 1+ np.exp(-lin_pred))  #log transformation\n",
    "age_ordered, mod_income_ordered = zip(*sorted(zip(age, mod_income.ravel()), key=lambda x:x[0]))\n",
    "\n",
    "fig = plt.figure(figsize=(8,6))\n",
    "fig.suptitle(\"age vs income\", fontsize=16)\n",
    "plt.scatter(age, income_bin)\n",
    "plt.xlabel(\"age\", fontsize=16)\n",
    "plt.ylabel(\"monthly income (probability age >50K)\", fontsize=16);\n",
    "plt.plot(age_ordered, mod_income_ordered, c=\"black\")\n",
    "plt.show()"
   ]
  },
  {
   "cell_type": "markdown",
   "metadata": {},
   "source": [
    "### Test Data Set"
   ]
  },
  {
   "cell_type": "code",
   "execution_count": 8,
   "metadata": {},
   "outputs": [
    {
     "name": "stdout",
     "output_type": "stream",
     "text": [
      "0    25\n",
      "1    38\n",
      "Name: age, dtype: int64\n",
      "0     <=50K.\n",
      "1     <=50K.\n",
      "Name: income, dtype: object\n"
     ]
    }
   ],
   "source": [
    "df_test = pd.read_csv(\"/Users/zhanebennett/Downloads/Adult//adult.test\", header=None)\n",
    "\n",
    "df_test.columns = ['age', 'workclass', 'fnlwgt', 'education', 'education-num', 'marital-status', 'occupation', 'relationship',\n",
    "             'race', 'sex', 'capital-gain', 'capital-loss', 'hours-per-week', 'native-country', 'income']\n",
    "\n",
    "age_test = df_test['age']\n",
    "print(age_test.head(2))\n",
    "income_test = df_test['income']\n",
    "print(income_test.head(2))\n",
    "\n",
    "income_bin_test = income_test == \" >50K.\"\n",
    "income_bin_test = income_bin_test.astype(int)"
   ]
  },
  {
   "cell_type": "code",
   "execution_count": 9,
   "metadata": {},
   "outputs": [],
   "source": [
    "age_test = age_test.values  #turns series object into an array object\n",
    "age_test = age_test.reshape(-1, 1)"
   ]
  },
  {
   "cell_type": "code",
   "execution_count": 10,
   "metadata": {
    "scrolled": true
   },
   "outputs": [
    {
     "name": "stdout",
     "output_type": "stream",
     "text": [
      "LogisticRegression(C=1000000000000.0, class_weight=None, dual=False,\n",
      "                   fit_intercept=False, intercept_scaling=1, l1_ratio=None,\n",
      "                   max_iter=100, multi_class='warn', n_jobs=None, penalty='l2',\n",
      "                   random_state=None, solver='lbfgs', tol=0.0001, verbose=0,\n",
      "                   warm_start=False)\n"
     ]
    }
   ],
   "source": [
    "#df.shape[0] != df_test.shape[0]\n",
    "\n",
    "regr_test = LogisticRegression(fit_intercept = False, C = 1e12, solver='lbfgs')\n",
    "model_log_test = regr_test.fit(age, income_bin)\n",
    "print(model_log_test)"
   ]
  },
  {
   "cell_type": "code",
   "execution_count": 11,
   "metadata": {},
   "outputs": [],
   "source": [
    "y_hat_test = regr.predict(age_test)\n",
    "y_hat_test = pd.Series(y_hat_test)"
   ]
  },
  {
   "cell_type": "code",
   "execution_count": 12,
   "metadata": {},
   "outputs": [
    {
     "data": {
      "image/png": "[encoded data removed]",
      "text/plain": [
       "<Figure size 576x432 with 1 Axes>"
      ]
     },
     "metadata": {
      "needs_background": "light"
     },
     "output_type": "display_data"
    }
   ],
   "source": [
    "coef = regr.coef_\n",
    "interc = regr.intercept_\n",
    "\n",
    "lin_pred = (age * coef + interc)    #linear prefictor\n",
    "mod_income = 1 / ( 1+ np.exp(-lin_pred))  #log transformation\n",
    "age_ordered, mod_income_ordered = zip(*sorted(zip(age, mod_income.ravel()), key=lambda x:x[0]))\n",
    "\n",
    "fig = plt.figure(figsize=(8,6))\n",
    "fig.suptitle(\"age vs income\", fontsize=16)\n",
    "plt.scatter(age_test, income_bin_test)\n",
    "plt.xlabel(\"age\", fontsize=16)\n",
    "plt.ylabel(\"monthly income (probability age >50K)\");\n",
    "plt.plot(age_ordered, mod_income_ordered, c=\"black\")\n",
    "plt.show()"
   ]
  },
  {
   "cell_type": "markdown",
   "metadata": {},
   "source": [
    "### Evaluation of model accuracty with AUROC Metric"
   ]
  },
  {
   "cell_type": "code",
   "execution_count": 13,
   "metadata": {},
   "outputs": [],
   "source": [
    "from sklearn.metrics import roc_curve, auc\n",
    "\n",
    "y_score = regr.fit(age, income_bin).decision_function(age_test)"
   ]
  },
  {
   "cell_type": "code",
   "execution_count": 14,
   "metadata": {},
   "outputs": [],
   "source": [
    "fpr, tpr, thresholds = roc_curve(income_bin_test, y_score)"
   ]
  },
  {
   "cell_type": "code",
   "execution_count": 15,
   "metadata": {},
   "outputs": [
    {
     "name": "stdout",
     "output_type": "stream",
     "text": [
      "AUC: 0.6783597431553071\n"
     ]
    }
   ],
   "source": [
    "print('AUC: {}'.format(auc(fpr, tpr)))"
   ]
  },
  {
   "cell_type": "code",
   "execution_count": 16,
   "metadata": {
    "scrolled": true
   },
   "outputs": [
    {
     "name": "stdout",
     "output_type": "stream",
     "text": [
      "AUC: 0.6783597431553071\n"
     ]
    },
    {
     "data": {
      "image/png": "[encoded data removed]",
      "text/plain": [
       "<Figure size 720x576 with 1 Axes>"
      ]
     },
     "metadata": {},
     "output_type": "display_data"
    }
   ],
   "source": [
    "import matplotlib.pyplot as plt\n",
    "import seaborn as sns\n",
    "%matplotlib inline\n",
    "\n",
    "#Seaborns Beautiful Styling\n",
    "sns.set_style(\"darkgrid\", {\"axes.facecolor\": \".9\"})\n",
    "\n",
    "print('AUC: {}'.format(auc(fpr, tpr)))\n",
    "\n",
    "plt.figure(figsize=(10,8))\n",
    "lw=2\n",
    "plt.plot(fpr, tpr, color='darkorange', lw=lw, label='ROC curve')\n",
    "\n",
    "plt.plot([0, 1], [0, 1], color='navy', lw=lw, linestyle='--')   #line\n",
    "plt.xlim([0.0, 1.0])\n",
    "plt.ylim([0.0, 1.05])\n",
    "plt.xticks([i/20.0 for i in range(21)])\n",
    "plt.xticks([i/20.0 for i in range(21)])\n",
    "plt.xlabel('FPR-False Positive Rate (1-Specificity)') \n",
    "plt.ylabel('TPR-True Positive Rate (Sensitivity)')\n",
    "plt.title('Receiver operating characteristic (ROC) curve')\n",
    "plt.legend(loc=\"lower right\")\n",
    "plt.show()"
   ]
  },
  {
   "cell_type": "markdown",
   "metadata": {},
   "source": [
    "### Evaluation of model accuracty with F1-Score Metric\n",
    "Precision, Recall, Accuracy (finding inverse to emphasize negative cases)"
   ]
  },
  {
   "cell_type": "code",
   "execution_count": 17,
   "metadata": {},
   "outputs": [],
   "source": [
    "y_true = income_bin_test #true target values\n",
    "y_pred = pd.Series(y_hat_test) #estimated target values\n",
    "\n",
    "y_true_inverse = (income_bin_test.values - 1) * -1 #true target values negative case\n",
    "y_pred_inverse = (y_hat_test.values - 1) * -1 #estimated target values negative case"
   ]
  },
  {
   "cell_type": "code",
   "execution_count": 18,
   "metadata": {},
   "outputs": [],
   "source": [
    "def conf_matrix(y_true, y_pred):\n",
    "    cm = {'TP': 0, 'TN': 0, 'FP': 0, 'FN': 0}\n",
    "    \n",
    "    for ind, label in enumerate(y_true):\n",
    "        pred = y_pred[ind]\n",
    "        if label == 1:\n",
    "            # CASE: TP \n",
    "            if label == pred:\n",
    "                cm['TP'] += 1\n",
    "            # CASE: FN\n",
    "            else:\n",
    "                cm['FN'] += 1\n",
    "        else:\n",
    "            # CASE: TN\n",
    "            if label == pred:\n",
    "                cm['TN'] += 1\n",
    "            # CASE: FP\n",
    "            else:\n",
    "                cm['FP'] += 1\n",
    "    return cm"
   ]
  },
  {
   "cell_type": "code",
   "execution_count": 19,
   "metadata": {},
   "outputs": [
    {
     "name": "stdout",
     "output_type": "stream",
     "text": [
      "{'TP': 57, 'TN': 12164, 'FP': 271, 'FN': 3789} \n",
      " {'TP': 12164, 'TN': 57, 'FP': 3789, 'FN': 271}\n"
     ]
    }
   ],
   "source": [
    "cm = conf_matrix(y_true, y_pred)\n",
    "cm_inverse = conf_matrix(y_true_inverse, y_pred_inverse) #TN becomes TP\n",
    "print(cm,'\\n', cm_inverse)"
   ]
  },
  {
   "cell_type": "code",
   "execution_count": 20,
   "metadata": {},
   "outputs": [],
   "source": [
    "import numpy as np\n",
    "import itertools\n",
    "import matplotlib.pyplot as plt\n",
    "from sklearn.metrics import confusion_matrix\n",
    "#%matplotlib inline\n",
    "\n",
    "def show_cf(y_true, y_pred, class_names=None, model_name=None):\n",
    "    cf = confusion_matrix(y_true, y_pred)\n",
    "    plt.imshow(cf, cmap=plt.cm.Blues)\n",
    "    \n",
    "    if model_name:\n",
    "        plt.title(\"Confusion Matrix: {}\".format(model_name))\n",
    "    else:\n",
    "        plt.title(\"Confusion Matrix\")\n",
    "    plt.ylabel('True Label')\n",
    "    plt.xlabel('Predicted Label')\n",
    "    \n",
    "    class_names = set(y_true)\n",
    "    tick_marks = np.arange(len(class_names))\n",
    "    if class_names:\n",
    "        plt.xticks(tick_marks, class_names)\n",
    "        plt.yticks(tick_marks, class_names)\n",
    "    \n",
    "    thresh = cf.max() / 2.\n",
    "    \n",
    "    for i, j in itertools.product(range(cf.shape[0]), range(cf.shape[1])):\n",
    "        plt.text(j, i, cf[i, j], horizontalalignment='center', color='white' if cf[i, j] > thresh else 'black')\n",
    "\n",
    "    plt.colorbar()"
   ]
  },
  {
   "cell_type": "code",
   "execution_count": 21,
   "metadata": {},
   "outputs": [
    {
     "data": {
      "image/png": "[encoded data removed]",
      "text/plain": [
       "<Figure size 432x288 with 2 Axes>"
      ]
     },
     "metadata": {},
     "output_type": "display_data"
    }
   ],
   "source": [
    "show_cf(y_true, y_pred, class_names=None, model_name=None)"
   ]
  },
  {
   "cell_type": "code",
   "execution_count": 22,
   "metadata": {},
   "outputs": [
    {
     "name": "stdout",
     "output_type": "stream",
     "text": [
      "----------------------------------------\n",
      "Model 1 Classification Report:\n",
      "              precision    recall  f1-score   support\n",
      "\n",
      "           0       0.76      0.98      0.86     12435\n",
      "           1       0.17      0.01      0.03      3846\n",
      "\n",
      "    accuracy                           0.75     16281\n",
      "   macro avg       0.47      0.50      0.44     16281\n",
      "weighted avg       0.62      0.75      0.66     16281\n",
      "\n"
     ]
    }
   ],
   "source": [
    "from sklearn.metrics import classification_report\n",
    "\n",
    "preds = [y_pred]\n",
    "\n",
    "for ind, i in enumerate(preds):\n",
    "    print('-'*40)\n",
    "    print(\"Model {} Classification Report:\".format(ind + 1))\n",
    "    print(classification_report(y_true, i))"
   ]
  },
  {
   "cell_type": "markdown",
   "metadata": {},
   "source": [
    "### Classification Imbalance\n",
    "The majority makes under 50K, while the minority makes over 50K. I'm more interested in detecting if people making over 50K. \n",
    "\n",
    "Having an imbalance in classes can lead to useless results if I'm trying to detect a minority case.\n",
    "My accuracy is 75%, but it could be that I'm predicting Class 0 every time. \n",
    "Class 0: 76% \n",
    "Class 1: 24%\n",
    "\n",
    "My recall, or TPR, is very low. Mitigating class imbalance can drastically improve recall, while only lowering accuracy by a little bit.\n",
    "There's a tradeoff when it comes to detection-- a tradeoff between precision and recall.\n",
    "Recall is more important. \n",
    "Recall is the rate of truly positive cases that were caught.\n",
    "Precision is the rate of positive catches that were actually positive.\n",
    "It is more expensive to miss a positive case than to falsly label a negative one as positive when it comes to detecting a minority class. (i.e. fraud)\n",
    "\n",
    "Precision is more about how well I guessed out of the ones that I guessed.\n",
    "Recall is more about how well I guessed in general--what % of positives (or negatives) did I capture out of the general pool?"
   ]
  },
  {
   "cell_type": "code",
   "execution_count": 23,
   "metadata": {},
   "outputs": [
    {
     "name": "stdout",
     "output_type": "stream",
     "text": [
      "12435 3846 16281\n",
      "15953 328 16281\n",
      "76.3773723972729 %\n",
      "23.622627602727107 %\n",
      "Accuracy: 0.750629568208341\n",
      "Recall: 0.014820592823712949\n"
     ]
    }
   ],
   "source": [
    "a = list(y_true)\n",
    "b = list(y_pred)\n",
    "print(a.count(0), a.count(1), a.count(0) + a.count(1)) # total neg. and pos. cases in y_true\n",
    "print(b.count(0), b.count(1), b.count(0) + b.count(1)) # total neg. and pos. cases in y_pred\n",
    "\n",
    "print(a.count(0)/(a.count(0) + a.count(1))*100,'%')\n",
    "print(a.count(1)/(a.count(0) + a.count(1))*100,'%')\n",
    "\n",
    "def accuracy(confusion_matrix):\n",
    "    return (confusion_matrix['TP'] + confusion_matrix['TN']) / sum(confusion_matrix.values())\n",
    "def recall(confusion_matrix):\n",
    "    return confusion_matrix['TP'] / (confusion_matrix['TP'] + confusion_matrix['FN'])\n",
    "\n",
    "print(\"Accuracy:\", accuracy(cm))\n",
    "print(\"Recall:\", recall(cm))"
   ]
  },
  {
   "cell_type": "markdown",
   "metadata": {},
   "source": [
    "#### SMOTE"
   ]
  },
  {
   "cell_type": "code",
   "execution_count": 24,
   "metadata": {},
   "outputs": [
    {
     "name": "stdout",
     "output_type": "stream",
     "text": [
      "0    12384\n",
      "1     3897\n",
      "Name: income, dtype: int64 \n",
      "\n",
      "[12384 12384]\n",
      "{'TP': 2333, 'TN': 8000, 'FP': 4435, 'FN': 1513}\n",
      "Accuracy: 0.6346661752963577\n",
      "Recall: 0.6066042641705668\n",
      "----------------------------------------\n",
      "Model 1 Classification Report:\n",
      "              precision    recall  f1-score   support\n",
      "\n",
      "           0       0.84      0.64      0.73     12435\n",
      "           1       0.34      0.61      0.44      3846\n",
      "\n",
      "    accuracy                           0.63     16281\n",
      "   macro avg       0.59      0.62      0.58     16281\n",
      "weighted avg       0.72      0.63      0.66     16281\n",
      "\n"
     ]
    }
   ],
   "source": [
    "#!pip install -U imbalanced-learn\n",
    "#!pip install imblearn \n",
    "from sklearn.preprocessing import StandardScaler\n",
    "from imblearn.over_sampling import SMOTE\n",
    "\n",
    "X_train = age\n",
    "y_train = income_bin\n",
    "X_test = age_test\n",
    "print (y_train.value_counts(), '\\n')\n",
    "\n",
    "sm = SMOTE()\n",
    "X_train, y_train = sm.fit_sample(X_train, y_train)\n",
    "print(np.bincount(y_train)) #minority class has been increased to the total number of majority class\n",
    "\n",
    "lr = LogisticRegression(solver='lbfgs')\n",
    "lr.fit(X_train, y_train)\n",
    "y_pred = lr.predict(X_test)\n",
    "\n",
    "cm = conf_matrix(y_true, y_pred)\n",
    "print(cm)\n",
    "print(\"Accuracy:\", accuracy(cm))\n",
    "print(\"Recall:\", recall(cm))\n",
    "\n",
    "preds = [y_pred]\n",
    "\n",
    "for ind, i in enumerate(preds):\n",
    "    print('-'*40)\n",
    "    print(\"Model {} Classification Report:\".format(ind + 1))\n",
    "    print(classification_report(y_true, i))"
   ]
  },
  {
   "cell_type": "markdown",
   "metadata": {},
   "source": [
    "#### NearMiss"
   ]
  },
  {
   "cell_type": "code",
   "execution_count": 25,
   "metadata": {
    "scrolled": true
   },
   "outputs": [
    {
     "name": "stdout",
     "output_type": "stream",
     "text": [
      "0    12384\n",
      "1     3897\n",
      "Name: income, dtype: int64 \n",
      "\n",
      "[3897 3897]\n",
      "{'TP': 2185, 'TN': 8279, 'FP': 4156, 'FN': 1661}\n",
      "Accuracy: 0.6427123641053989\n",
      "Recall: 0.5681227249089964\n",
      "----------------------------------------\n",
      "Model 1 Classification Report:\n",
      "              precision    recall  f1-score   support\n",
      "\n",
      "           0       0.83      0.67      0.74     12435\n",
      "           1       0.34      0.57      0.43      3846\n",
      "\n",
      "    accuracy                           0.64     16281\n",
      "   macro avg       0.59      0.62      0.58     16281\n",
      "weighted avg       0.72      0.64      0.67     16281\n",
      "\n"
     ]
    }
   ],
   "source": [
    "from imblearn.under_sampling import NearMiss\n",
    "\n",
    "X_train = age\n",
    "y_train = income_bin\n",
    "X_test = age_test\n",
    "print (y_train.value_counts(), '\\n')\n",
    "\n",
    "nr = NearMiss()\n",
    "X_train, y_train = nr.fit_sample(X_train, y_train)\n",
    "\n",
    "print(np.bincount(y_train))\n",
    "\n",
    "lr = LogisticRegression(solver='lbfgs')\n",
    "lr.fit(X_train, y_train)\n",
    "y_pred = lr.predict(X_test)\n",
    "\n",
    "cm = conf_matrix(y_true, y_pred)\n",
    "print(cm)\n",
    "print(\"Accuracy:\", accuracy(cm))\n",
    "print(\"Recall:\", recall(cm))\n",
    "\n",
    "preds = [y_pred]\n",
    "\n",
    "for ind, i in enumerate(preds):\n",
    "    print('-'*40)\n",
    "    print(\"Model {} Classification Report:\".format(ind + 1))\n",
    "    print(classification_report(y_true, i))"
   ]
  },
  {
   "cell_type": "markdown",
   "metadata": {},
   "source": [
    "Interpret\n",
    "\n",
    "Oversampling and undersampling methods lower accuracy, but have a greater recall.\n",
    "SMOTE has a lower accuracy than NearMiss, but a higher recall for the minority case, so I would use it for reducing class imbalance when detecting instances of the minority case is the priority.\n",
    "\n",
    "Overall. the model has a weighted average precision of .72, recall of .63, and F-1 score of .66"
   ]
  }
 ],
 "metadata": {
  "kernelspec": {
   "display_name": "Python 3",
   "language": "python",
   "name": "python3"
  },
  "language_info": {
   "codemirror_mode": {
    "name": "ipython",
    "version": 3
   },
   "file_extension": ".py",
   "mimetype": "text/x-python",
   "name": "python",
   "nbconvert_exporter": "python",
   "pygments_lexer": "ipython3",
   "version": "3.7.1"
  }
 },
 "nbformat": 4,
 "nbformat_minor": 2
}
