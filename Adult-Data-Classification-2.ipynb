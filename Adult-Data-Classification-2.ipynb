{
 "cells": [
  {
   "cell_type": "markdown",
   "metadata": {},
   "source": [
    "# Logistic Regression: \n",
    "## Predict whether a person makes over 50K per year using the Census Income Data Set"
   ]
  },
  {
   "cell_type": "code",
   "execution_count": 60,
   "metadata": {},
   "outputs": [
    {
     "data": {
      "text/html": [
       "<div>\n",
       "<style scoped>\n",
       "    .dataframe tbody tr th:only-of-type {\n",
       "        vertical-align: middle;\n",
       "    }\n",
       "\n",
       "    .dataframe tbody tr th {\n",
       "        vertical-align: top;\n",
       "    }\n",
       "\n",
       "    .dataframe thead th {\n",
       "        text-align: right;\n",
       "    }\n",
       "</style>\n",
       "<table border=\"1\" class=\"dataframe\">\n",
       "  <thead>\n",
       "    <tr style=\"text-align: right;\">\n",
       "      <th></th>\n",
       "      <th>age</th>\n",
       "      <th>workclass</th>\n",
       "      <th>fnlwgt</th>\n",
       "      <th>education</th>\n",
       "      <th>education-num</th>\n",
       "      <th>marital-status</th>\n",
       "      <th>occupation</th>\n",
       "      <th>relationship</th>\n",
       "      <th>race</th>\n",
       "      <th>sex</th>\n",
       "      <th>capital-gain</th>\n",
       "      <th>capital-loss</th>\n",
       "      <th>hours-per-week</th>\n",
       "      <th>native-country</th>\n",
       "      <th>income</th>\n",
       "    </tr>\n",
       "  </thead>\n",
       "  <tbody>\n",
       "    <tr>\n",
       "      <th>0</th>\n",
       "      <td>39</td>\n",
       "      <td>State-gov</td>\n",
       "      <td>77516</td>\n",
       "      <td>Bachelors</td>\n",
       "      <td>13</td>\n",
       "      <td>Never-married</td>\n",
       "      <td>Adm-clerical</td>\n",
       "      <td>Not-in-family</td>\n",
       "      <td>White</td>\n",
       "      <td>Male</td>\n",
       "      <td>2174</td>\n",
       "      <td>0</td>\n",
       "      <td>40</td>\n",
       "      <td>United-States</td>\n",
       "      <td>&lt;=50K</td>\n",
       "    </tr>\n",
       "    <tr>\n",
       "      <th>1</th>\n",
       "      <td>50</td>\n",
       "      <td>Self-emp-not-inc</td>\n",
       "      <td>83311</td>\n",
       "      <td>Bachelors</td>\n",
       "      <td>13</td>\n",
       "      <td>Married-civ-spouse</td>\n",
       "      <td>Exec-managerial</td>\n",
       "      <td>Husband</td>\n",
       "      <td>White</td>\n",
       "      <td>Male</td>\n",
       "      <td>0</td>\n",
       "      <td>0</td>\n",
       "      <td>13</td>\n",
       "      <td>United-States</td>\n",
       "      <td>&lt;=50K</td>\n",
       "    </tr>\n",
       "    <tr>\n",
       "      <th>2</th>\n",
       "      <td>38</td>\n",
       "      <td>Private</td>\n",
       "      <td>215646</td>\n",
       "      <td>HS-grad</td>\n",
       "      <td>9</td>\n",
       "      <td>Divorced</td>\n",
       "      <td>Handlers-cleaners</td>\n",
       "      <td>Not-in-family</td>\n",
       "      <td>White</td>\n",
       "      <td>Male</td>\n",
       "      <td>0</td>\n",
       "      <td>0</td>\n",
       "      <td>40</td>\n",
       "      <td>United-States</td>\n",
       "      <td>&lt;=50K</td>\n",
       "    </tr>\n",
       "    <tr>\n",
       "      <th>3</th>\n",
       "      <td>53</td>\n",
       "      <td>Private</td>\n",
       "      <td>234721</td>\n",
       "      <td>11th</td>\n",
       "      <td>7</td>\n",
       "      <td>Married-civ-spouse</td>\n",
       "      <td>Handlers-cleaners</td>\n",
       "      <td>Husband</td>\n",
       "      <td>Black</td>\n",
       "      <td>Male</td>\n",
       "      <td>0</td>\n",
       "      <td>0</td>\n",
       "      <td>40</td>\n",
       "      <td>United-States</td>\n",
       "      <td>&lt;=50K</td>\n",
       "    </tr>\n",
       "    <tr>\n",
       "      <th>4</th>\n",
       "      <td>28</td>\n",
       "      <td>Private</td>\n",
       "      <td>338409</td>\n",
       "      <td>Bachelors</td>\n",
       "      <td>13</td>\n",
       "      <td>Married-civ-spouse</td>\n",
       "      <td>Prof-specialty</td>\n",
       "      <td>Wife</td>\n",
       "      <td>Black</td>\n",
       "      <td>Female</td>\n",
       "      <td>0</td>\n",
       "      <td>0</td>\n",
       "      <td>40</td>\n",
       "      <td>Cuba</td>\n",
       "      <td>&lt;=50K</td>\n",
       "    </tr>\n",
       "  </tbody>\n",
       "</table>\n",
       "</div>"
      ],
      "text/plain": [
       "   age          workclass  fnlwgt   education  education-num  \\\n",
       "0   39          State-gov   77516   Bachelors             13   \n",
       "1   50   Self-emp-not-inc   83311   Bachelors             13   \n",
       "2   38            Private  215646     HS-grad              9   \n",
       "3   53            Private  234721        11th              7   \n",
       "4   28            Private  338409   Bachelors             13   \n",
       "\n",
       "        marital-status          occupation    relationship    race      sex  \\\n",
       "0        Never-married        Adm-clerical   Not-in-family   White     Male   \n",
       "1   Married-civ-spouse     Exec-managerial         Husband   White     Male   \n",
       "2             Divorced   Handlers-cleaners   Not-in-family   White     Male   \n",
       "3   Married-civ-spouse   Handlers-cleaners         Husband   Black     Male   \n",
       "4   Married-civ-spouse      Prof-specialty            Wife   Black   Female   \n",
       "\n",
       "   capital-gain  capital-loss  hours-per-week  native-country  income  \n",
       "0          2174             0              40   United-States   <=50K  \n",
       "1             0             0              13   United-States   <=50K  \n",
       "2             0             0              40   United-States   <=50K  \n",
       "3             0             0              40   United-States   <=50K  \n",
       "4             0             0              40            Cuba   <=50K  "
      ]
     },
     "execution_count": 60,
     "metadata": {},
     "output_type": "execute_result"
    }
   ],
   "source": [
    "import pandas as pd\n",
    "import numpy as np\n",
    "import matplotlib\n",
    "import matplotlib.pyplot as plt\n",
    "import os\n",
    "os.getcwd()\n",
    "\n",
    "col_names = ['age', 'workclass', 'fnlwgt', 'education', 'education-num', 'marital-status', 'occupation', 'relationship',\n",
    "             'race', 'sex', 'capital-gain', 'capital-loss', 'hours-per-week', 'native-country', 'income']\n",
    "df_train = pd.read_csv(\"/Users/zhanebennett/Downloads/Adult//adult.data\", header=None, names = col_names)\n",
    "df_test = pd.read_csv(\"/Users/zhanebennett/Downloads/Adult//adult.test\", header=None, names = col_names)\n",
    "\n",
    "df_train = df_train.iloc[0:16281]  #train and test datasets need to be the same size\n",
    "df_train.head(5)     # with this command you can see your file"
   ]
  },
  {
   "cell_type": "markdown",
   "metadata": {},
   "source": [
    "## Cleaning"
   ]
  },
  {
   "cell_type": "code",
   "execution_count": 61,
   "metadata": {},
   "outputs": [],
   "source": [
    "df_train = df_train.drop(columns=['fnlwgt'])     #dropping this column\n",
    "df_test = df_test.drop(columns=['fnlwgt'])\n",
    "\n",
    "df_test['income'] = df_test['income'].replace([\" >50K.\"], \" >50K\")  #income values slightly different in test datasets\n",
    "df_test['income'] = df_test['income'].replace([\" <=50K.\"], \" <=50K\")"
   ]
  },
  {
   "cell_type": "code",
   "execution_count": 62,
   "metadata": {
    "scrolled": true
   },
   "outputs": [
    {
     "data": {
      "text/html": [
       "<div>\n",
       "<style scoped>\n",
       "    .dataframe tbody tr th:only-of-type {\n",
       "        vertical-align: middle;\n",
       "    }\n",
       "\n",
       "    .dataframe tbody tr th {\n",
       "        vertical-align: top;\n",
       "    }\n",
       "\n",
       "    .dataframe thead th {\n",
       "        text-align: right;\n",
       "    }\n",
       "</style>\n",
       "<table border=\"1\" class=\"dataframe\">\n",
       "  <thead>\n",
       "    <tr style=\"text-align: right;\">\n",
       "      <th></th>\n",
       "      <th>age</th>\n",
       "      <th>workclass</th>\n",
       "      <th>education</th>\n",
       "      <th>education-num</th>\n",
       "      <th>marital-status</th>\n",
       "      <th>occupation</th>\n",
       "      <th>relationship</th>\n",
       "      <th>race</th>\n",
       "      <th>sex</th>\n",
       "      <th>capital-gain</th>\n",
       "      <th>capital-loss</th>\n",
       "      <th>hours-per-week</th>\n",
       "      <th>native-country</th>\n",
       "      <th>income</th>\n",
       "    </tr>\n",
       "  </thead>\n",
       "  <tbody>\n",
       "    <tr>\n",
       "      <th>0</th>\n",
       "      <td>25</td>\n",
       "      <td>Private</td>\n",
       "      <td>11th</td>\n",
       "      <td>7</td>\n",
       "      <td>Never-married</td>\n",
       "      <td>Machine-op-inspct</td>\n",
       "      <td>Own-child</td>\n",
       "      <td>Black</td>\n",
       "      <td>Male</td>\n",
       "      <td>0</td>\n",
       "      <td>0</td>\n",
       "      <td>40</td>\n",
       "      <td>United-States</td>\n",
       "      <td>&lt;=50K</td>\n",
       "    </tr>\n",
       "  </tbody>\n",
       "</table>\n",
       "</div>"
      ],
      "text/plain": [
       "   age workclass education  education-num  marital-status          occupation  \\\n",
       "0   25   Private      11th              7   Never-married   Machine-op-inspct   \n",
       "\n",
       "  relationship    race    sex  capital-gain  capital-loss  hours-per-week  \\\n",
       "0    Own-child   Black   Male             0             0              40   \n",
       "\n",
       "   native-country  income  \n",
       "0   United-States   <=50K  "
      ]
     },
     "execution_count": 62,
     "metadata": {},
     "output_type": "execute_result"
    }
   ],
   "source": [
    "#df_train['income_binary'] = (df_train['income'] == \" >50K\").astype(int)\n",
    "#df_test['income_binary'] = (df_test['income'] == \" >50K\").astype(int)\n",
    "\n",
    "#df_train.head(1)\n",
    "df_test.head(1)"
   ]
  },
  {
   "cell_type": "code",
   "execution_count": 63,
   "metadata": {},
   "outputs": [
    {
     "name": "stdout",
     "output_type": "stream",
     "text": [
      "age :  [39 50 38 53 28 37 49 52 31 42 30 23 32 40 34 25 43 54 35 59 56 19 20 45\n",
      " 22 48 21 24 57 44 41 29 18 47 46 36 79 27 67 33 76 17 55 61 70 64 71 68\n",
      " 66 51 58 26 60 90 75 65 77 62 63 80 72 74 69 73 81 78 88 82 83 84 85] \n",
      "\n",
      "workclass :  ['State-gov' 'Self-emp-not-inc' 'Private' 'Federal-gov' 'Local-gov' '?'\n",
      " 'Self-emp-inc' 'Without-pay' 'Never-worked'] \n",
      "\n",
      "education :  ['Bachelors' 'HS-grad' '11th' 'Masters' '9th' 'Some-college' 'Assoc-acdm'\n",
      " 'Assoc-voc' '7th-8th' 'Doctorate' 'Prof-school' '5th-6th' '10th'\n",
      " '1st-4th' 'Preschool' '12th'] \n",
      "\n",
      "education-num :  [13  9  7 14  5 10 12 11  4 16 15  3  6  2  1  8] \n",
      "\n",
      "marital-status :  ['Never-married' 'Married-civ-spouse' 'Divorced' 'Married-spouse-absent'\n",
      " 'Separated' 'Married-AF-spouse' 'Widowed'] \n",
      "\n",
      "occupation :  ['Adm-clerical' 'Exec-managerial' 'Handlers-cleaners' 'Prof-specialty'\n",
      " 'Other-service' 'Sales' 'Craft-repair' 'Transport-moving'\n",
      " 'Farming-fishing' 'Machine-op-inspct' 'Tech-support' '?'\n",
      " 'Protective-serv' 'Armed-Forces' 'Priv-house-serv'] \n",
      "\n",
      "relationship :  ['Not-in-family' 'Husband' 'Wife' 'Own-child' 'Unmarried' 'Other-relative'] \n",
      "\n",
      "race :  ['White' 'Black' 'Asian-Pac-Islander' 'Amer-Indian-Eskimo' 'Other'] \n",
      "\n",
      "sex :  ['Male' 'Female'] \n",
      "\n",
      "capital-gain :  [ 2174     0 14084  5178  5013  2407 14344 15024  7688 34095  4064  4386\n",
      "  7298  1409  3674  1055  3464  2050  2176   594 20051  6849  4101  1111\n",
      "  8614  3411  2597 25236  4650  9386  2463  3103 10605  2964  3325  2580\n",
      "  3471  4865 99999  6514  1471  2329  2105  2885 25124 10520  2202  2961\n",
      " 27828  6767  2228  1506 13550  2635  5556  4787  3781  3137  3818  3942\n",
      "   914   401  2829  2977  4934  2062  2354  5455 15020  1424  3273 22040\n",
      "  4416  3908 10566   991  4931  1086  7430  6497   114  7896  2346  3418\n",
      "  3432  2907  1151  2414  2290 15831 41310  4508  2538  3456  6418  1848\n",
      "  3887  5721  9562  1455  2036  1831 11678  2936  2993  7443  6360  1797\n",
      "  1173  4687  6723  2009] \n",
      "\n",
      "capital-loss :  [   0 2042 1408 1902 1573 1887 1719 1762 1564 2179 1816 1980 1977 1876\n",
      " 1340 2206 1741 1485 2339 2415 1380 1721 2051 2377 1669 2352 1672  653\n",
      " 2392 1504 2001 1590 1651 1628 1848 1740 2002 1579 2258 1602  419 2547\n",
      " 2174 2205 1726 2444 1138 2238  625  213 1539  880 1668 1092 1594 3004\n",
      " 2231 1844  810 2824 2559 2057 1974  974 2149 1825 1735 1258 2129 2603\n",
      " 2282  323 4356 2246 1617 1648 2489 3770 1755 3683 2267 2080] \n",
      "\n",
      "hours-per-week :  [40 13 16 45 50 80 30 35 60 20 52 44 15 25 38 43 55 48 58 32 70  2 22 56\n",
      " 41 28 36 24 46 42 12 65  1 10 34 75 98 33 54  8  6 64 19 18 72  5  9 47\n",
      " 37 21 26 14  4 59  7 99 53 39 62 57 78 90 66 11 49 84  3 17 68 27 85 31\n",
      " 51 77 63 23 87 88 73 89 97 94 29 96 67 82 86 91 81 76] \n",
      "\n",
      "native-country :  ['United-States' 'Cuba' 'Jamaica' 'India' '?' 'Mexico' 'South'\n",
      " 'Puerto-Rico' 'Honduras' 'England' 'Canada' 'Germany' 'Iran'\n",
      " 'Philippines' 'Italy' 'Poland' 'Columbia' 'Cambodia' 'Thailand' 'Ecuador'\n",
      " 'Laos' 'Taiwan' 'Haiti' 'Portugal' 'Dominican-Republic' 'El-Salvador'\n",
      " 'France' 'Guatemala' 'China' 'Japan' 'Yugoslavia' 'Peru'\n",
      " 'Outlying-US(Guam-USVI-etc)' 'Scotland' 'Trinadad&Tobago' 'Greece'\n",
      " 'Nicaragua' 'Vietnam' 'Hong' 'Ireland' 'Hungary'] \n",
      "\n",
      "income :  ['<=50K' '>50K'] \n",
      "\n"
     ]
    }
   ],
   "source": [
    "col_names = df_train.columns.values.tolist()\n",
    "df_train = df_train.apply(lambda x: x.str.strip() if x.dtype == \"object\" else x) #remove trailing whitespace from dataframe\n",
    "df_test = df_test.apply(lambda x: x.str.strip() if x.dtype == \"object\" else x) #remove trailing whitespace from dataframe\n",
    "for i in col_names: print (i, \": \", df_train[i].unique(), \"\\n\")  "
   ]
  },
  {
   "cell_type": "markdown",
   "metadata": {},
   "source": [
    "# Exploration and Visualization"
   ]
  },
  {
   "cell_type": "code",
   "execution_count": 64,
   "metadata": {},
   "outputs": [
    {
     "name": "stdout",
     "output_type": "stream",
     "text": [
      "Train Values:  ['<=50K' '>50K'] \n",
      " Test Values:  ['<=50K' '>50K'] \n",
      " \n",
      " Train Counts:  \n",
      " <=50K    12384\n",
      ">50K      3897\n",
      "Name: income, dtype: int64 \n",
      " \n",
      " Test Counts:  \n",
      " <=50K    12435\n",
      ">50K      3846\n",
      "Name: income, dtype: int64 \n",
      "\n"
     ]
    }
   ],
   "source": [
    "print(\"Train Values: \" , df_train['income'].unique(),\"\\n\",\n",
    "      \"Test Values: \" , df_test['income'].unique(),\"\\n\", \"\\n\",\n",
    "      \"Train Counts: \", \"\\n\", df_train['income'].value_counts(), \"\\n\",\"\\n\",\n",
    "      \"Test Counts: \",\"\\n\", df_test['income'].value_counts(), \"\\n\",\n",
    "     )"
   ]
  },
  {
   "cell_type": "code",
   "execution_count": 68,
   "metadata": {},
   "outputs": [
    {
     "data": {
      "text/html": [
       "<div>\n",
       "<style scoped>\n",
       "    .dataframe tbody tr th:only-of-type {\n",
       "        vertical-align: middle;\n",
       "    }\n",
       "\n",
       "    .dataframe tbody tr th {\n",
       "        vertical-align: top;\n",
       "    }\n",
       "\n",
       "    .dataframe thead tr th {\n",
       "        text-align: left;\n",
       "    }\n",
       "\n",
       "    .dataframe thead tr:last-of-type th {\n",
       "        text-align: right;\n",
       "    }\n",
       "</style>\n",
       "<table border=\"1\" class=\"dataframe\">\n",
       "  <thead>\n",
       "    <tr>\n",
       "      <th></th>\n",
       "      <th colspan=\"2\" halign=\"left\">age</th>\n",
       "    </tr>\n",
       "    <tr>\n",
       "      <th></th>\n",
       "      <th>mean</th>\n",
       "      <th>count</th>\n",
       "    </tr>\n",
       "    <tr>\n",
       "      <th>income</th>\n",
       "      <th></th>\n",
       "      <th></th>\n",
       "    </tr>\n",
       "  </thead>\n",
       "  <tbody>\n",
       "    <tr>\n",
       "      <th>&lt;=50K</th>\n",
       "      <td>36.796592</td>\n",
       "      <td>12384</td>\n",
       "    </tr>\n",
       "    <tr>\n",
       "      <th>&gt;50K</th>\n",
       "      <td>44.109315</td>\n",
       "      <td>3897</td>\n",
       "    </tr>\n",
       "  </tbody>\n",
       "</table>\n",
       "</div>"
      ],
      "text/plain": [
       "              age       \n",
       "             mean  count\n",
       "income                  \n",
       "<=50K   36.796592  12384\n",
       ">50K    44.109315   3897"
      ]
     },
     "execution_count": 68,
     "metadata": {},
     "output_type": "execute_result"
    }
   ],
   "source": [
    "df_train.groupby(\"income\").agg({\"age\": ['mean', 'count']})"
   ]
  },
  {
   "cell_type": "code",
   "execution_count": 67,
   "metadata": {
    "scrolled": true
   },
   "outputs": [
    {
     "data": {
      "image/png": "[encoded data removed]",
      "text/plain": [
       "<Figure size 432x288 with 2 Axes>"
      ]
     },
     "metadata": {
      "needs_background": "light"
     },
     "output_type": "display_data"
    }
   ],
   "source": [
    "import seaborn as sns\n",
    "%matplotlib inline  \n",
    "\n",
    "\n",
    "\n",
    "ax1 = sns.countplot(x='income', data = df_train, palette = 'hls')\n",
    "sns.set(style=\"white\")\n",
    "sns.set(style=\"whitegrid\", color_codes=True)\n",
    "\n",
    "ax1.set_title('Income Count by Gender', fontsize=16)\n",
    "ax1.grid(False)\n",
    "\n",
    "ax2 = ax1.twinx()\n",
    "ax2.grid(False)\n",
    "ax2.grid(b=None)\n",
    "\n",
    "# ax2 = sns.catplot(x=\"income\", y=\"age\", hue=\"sex\",\n",
    "#             palette={\"Male\": \"g\", \"Female\": \"m\"},\n",
    "#             markers=[\"^\", \"o\"], linestyles=[\"-\", \"--\"],\n",
    "#             kind=\"point\", data=df_train, ax=ax2)\n",
    "\n",
    "\n",
    "plt.axis('off')\n",
    "plt.grid(b=None)\n",
    "plt.box(False)"
   ]
  },
  {
   "cell_type": "code",
   "execution_count": 69,
   "metadata": {},
   "outputs": [
    {
     "data": {
      "image/png": "[encoded data removed]",
      "text/plain": [
       "<Figure size 436.35x360 with 1 Axes>"
      ]
     },
     "metadata": {},
     "output_type": "display_data"
    }
   ],
   "source": [
    "sns.catplot(x=\"age\", y=\"income\", hue=\"sex\",\n",
    "            palette={\"Male\": \"g\", \"Female\": \"m\"},\n",
    "            markers=[\"^\", \"o\"], linestyles=[\"-\", \"--\"],\n",
    "            kind=\"point\", data=df_train)\n",
    "\n",
    "\n",
    "plt.show()"
   ]
  },
  {
   "cell_type": "code",
   "execution_count": 16,
   "metadata": {},
   "outputs": [
    {
     "data": {
      "text/plain": [
       "<seaborn.axisgrid.FacetGrid at 0x1a21a10f98>"
      ]
     },
     "execution_count": 16,
     "metadata": {},
     "output_type": "execute_result"
    },
    {
     "data": {
      "image/png": "[encoded data removed]",
      "text/plain": [
       "<Figure size 360x360 with 1 Axes>"
      ]
     },
     "metadata": {},
     "output_type": "display_data"
    }
   ],
   "source": [
    "sns.catplot(x=\"age\", y=\"income\", data=df_train)"
   ]
  },
  {
   "cell_type": "markdown",
   "metadata": {},
   "source": [
    "## Dummy Variables"
   ]
  },
  {
   "cell_type": "code",
   "execution_count": 45,
   "metadata": {},
   "outputs": [],
   "source": [
    "dummy_vars = ['workclass', 'education', 'marital-status', 'occupation', 'relationship', 'race', 'sex', 'native-country', 'income']\n",
    "\n",
    "for var in dummy_vars:\n",
    "    dummy_list='var'+'_'+var\n",
    "    dummy_list = pd.get_dummies(df_train[var], prefix=var, drop_first=True)\n",
    "    data1=df_train.join(dummy_list)\n",
    "    df_train=data1 "
   ]
  },
  {
   "cell_type": "code",
   "execution_count": 46,
   "metadata": {},
   "outputs": [],
   "source": [
    "for var in dummy_vars:                #same for test \n",
    "    dummy_list='var'+'_'+var\n",
    "    dummy_list = pd.get_dummies(df_test[var], prefix=var, drop_first=True)\n",
    "    data1=df_test.join(dummy_list)\n",
    "    df_test=data1"
   ]
  },
  {
   "cell_type": "code",
   "execution_count": 47,
   "metadata": {},
   "outputs": [
    {
     "data": {
      "text/plain": [
       "Index(['age', 'workclass', 'education', 'education-num', 'marital-status',\n",
       "       'occupation', 'relationship', 'race', 'sex', 'capital-gain',\n",
       "       ...\n",
       "       'native-country_Puerto-Rico', 'native-country_Scotland',\n",
       "       'native-country_South', 'native-country_Taiwan',\n",
       "       'native-country_Thailand', 'native-country_Trinadad&Tobago',\n",
       "       'native-country_United-States', 'native-country_Vietnam',\n",
       "       'native-country_Yugoslavia', 'income_>50K'],\n",
       "      dtype='object', length=108)"
      ]
     },
     "execution_count": 47,
     "metadata": {},
     "output_type": "execute_result"
    }
   ],
   "source": [
    "df_train.head(1)\n",
    "df_test.columns"
   ]
  },
  {
   "cell_type": "code",
   "execution_count": 48,
   "metadata": {
    "scrolled": false
   },
   "outputs": [],
   "source": [
    "df_vars=df_train.columns.tolist()                    #list of all vars including new dummy vars\n",
    "to_keep=[i for i in df_vars if i not in dummy_vars]  #replace vars with new dummy vars\n",
    "df_train = df_train[to_keep]                         #update dataframe with dummy variables \n",
    "\n",
    "df_vars=df_test.columns.tolist()                     #same for test --> columns have slightly different names\n",
    "to_keep=[i for i in df_vars if i not in dummy_vars]  #replace vars with new dummy vars\n",
    "df_test = df_test[to_keep]                           #same for test\n",
    "\n",
    "df_vars_final=df_train.columns.tolist()              #list of all vars in updated df"
   ]
  },
  {
   "cell_type": "code",
   "execution_count": 49,
   "metadata": {},
   "outputs": [
    {
     "data": {
      "text/plain": [
       "['age', 'education-num', 'capital-gain', 'capital-loss', 'hours-per-week']"
      ]
     },
     "execution_count": 49,
     "metadata": {},
     "output_type": "execute_result"
    }
   ],
   "source": [
    "df_vars_final[:5]"
   ]
  },
  {
   "cell_type": "markdown",
   "metadata": {},
   "source": [
    "## Recursive Feature Elimination"
   ]
  },
  {
   "cell_type": "markdown",
   "metadata": {},
   "source": [
    "a feature selection method that fits a model and removes the weakest feature (or features) until the specified number of features is reached. I set the parameter n_features_to_select = 1 to get a full ranking of features. If I set it to anything greater than 1, it will rank the top n as 1 then will descend in order."
   ]
  },
  {
   "cell_type": "code",
   "execution_count": 50,
   "metadata": {},
   "outputs": [],
   "source": [
    "from sklearn.feature_selection import RFE            #import RFE module\n",
    "from sklearn.linear_model import LogisticRegression  # import the Logistic Regression module\n",
    "\n",
    "y = ['income_>50K']                                  # DV\n",
    "X = [i for i in df_vars_final if i not in y]         # all features exzcept DV\n",
    "\n",
    "X_train = df_train[X]              #features\n",
    "y_train = df_train['income_>50K']   #target variable\n",
    "\n",
    "X_test = df_test[X]                 #features\n",
    "y_test = df_test['income_>50K']     #target variable"
   ]
  },
  {
   "cell_type": "code",
   "execution_count": 51,
   "metadata": {},
   "outputs": [
    {
     "name": "stdout",
     "output_type": "stream",
     "text": [
      "[False False False False False False False False False False False False\n",
      " False False False False False False False False False False False False\n",
      " False False False False False False False False False False False False\n",
      " False False False False False False  True False False False False False\n",
      " False False False False False False False False False False False False\n",
      " False False False False False False False False False False False False\n",
      " False False False False False False False False False False False False\n",
      " False False False False False False False False False False False False\n",
      " False False]\n",
      "[83 52 95 94 82 46 64 92 65 87 50 48 93 27 55 67 73 69 11 77 79 19  5 78\n",
      " 16  2  7 70 12  6 59 39 62 71 89 91 90 33 25 29 49 21  1 43 44 45 38 76\n",
      " 74 22  8 47 36 53 60 18 54 37 85 42 28 10 72 31 15 32 88 57 40 24 26  9\n",
      " 58 96 86 30 75 34 41 56 98  4 13 14  3 23 68 81 80 63 84 61 35 97 66 51\n",
      " 17 20]\n"
     ]
    }
   ],
   "source": [
    "import warnings\n",
    "warnings.filterwarnings('ignore')\n",
    "\n",
    "logreg = LogisticRegression(C=1e5, solver='lbfgs') #,max_iter=90000)\n",
    "selector = RFE(logreg, 1)                           # selecting top 1 features\n",
    "selector = selector.fit(X_train, y_train)\n",
    "print(selector.support_)\n",
    "order = selector.ranking_\n",
    "print(order)"
   ]
  },
  {
   "cell_type": "code",
   "execution_count": 52,
   "metadata": {},
   "outputs": [
    {
     "data": {
      "text/plain": [
       "['1. occupation_Priv-house-serv',\n",
       " '2. education_Preschool',\n",
       " '3. native-country_Outlying-US(Guam-USVI-etc)',\n",
       " '4. native-country_Laos',\n",
       " '5. education_Doctorate',\n",
       " '6. marital-status_Married-civ-spouse',\n",
       " '7. education_Prof-school',\n",
       " '8. relationship_Own-child',\n",
       " '9. native-country_Haiti',\n",
       " '10. native-country_Columbia',\n",
       " '11. education_9th',\n",
       " '12. marital-status_Married-AF-spouse',\n",
       " '13. native-country_Mexico',\n",
       " '14. native-country_Nicaragua',\n",
       " '15. native-country_Ecuador',\n",
       " '16. education_Masters',\n",
       " '17. native-country_Vietnam',\n",
       " '18. race_Other',\n",
       " '19. education_Bachelors',\n",
       " '20. native-country_Yugoslavia']"
      ]
     },
     "execution_count": 52,
     "metadata": {},
     "output_type": "execute_result"
    }
   ],
   "source": [
    "rankings = dict(zip(order, X_train.columns.values))  #pair rankings and variables in a dictionary\n",
    "\n",
    "import collections          \n",
    "ordered_rankings = collections.OrderedDict(sorted(rankings.items()))    #order dictionary by key to see top features\n",
    "\n",
    "feature_ranks = []                                                     #list of all features and their ranks\n",
    "for key, value in ordered_rankings.items(): feature_ranks.append(f\"{key}. {value}\") \n",
    "\n",
    "feature_ranks[0:20]\n"
   ]
  },
  {
   "cell_type": "code",
   "execution_count": 53,
   "metadata": {},
   "outputs": [
    {
     "data": {
      "text/plain": [
       "['occupation_Priv-house-serv',\n",
       " 'education_Preschool',\n",
       " 'native-country_Outlying-US(Guam-USVI-etc)',\n",
       " 'native-country_Laos',\n",
       " 'education_Doctorate',\n",
       " 'marital-status_Married-civ-spouse',\n",
       " 'education_Prof-school',\n",
       " 'relationship_Own-child',\n",
       " 'native-country_Haiti',\n",
       " 'native-country_Columbia',\n",
       " 'education_9th',\n",
       " 'marital-status_Married-AF-spouse',\n",
       " 'native-country_Mexico',\n",
       " 'native-country_Nicaragua',\n",
       " 'native-country_Ecuador',\n",
       " 'education_Masters',\n",
       " 'native-country_Vietnam',\n",
       " 'race_Other',\n",
       " 'education_Bachelors',\n",
       " 'native-country_Yugoslavia']"
      ]
     },
     "execution_count": 53,
     "metadata": {},
     "output_type": "execute_result"
    }
   ],
   "source": [
    "top_20 = [v for k, v in ordered_rankings.items() if k <= 20] # using the top 20 features\n",
    "top_20"
   ]
  },
  {
   "cell_type": "markdown",
   "metadata": {},
   "source": [
    "## Statistical Significance"
   ]
  },
  {
   "cell_type": "code",
   "execution_count": 56,
   "metadata": {
    "scrolled": true
   },
   "outputs": [
    {
     "name": "stdout",
     "output_type": "stream",
     "text": [
      "Warning: Maximum number of iterations has been exceeded.\n",
      "         Current function value: inf\n",
      "         Iterations: 35\n",
      "                                            Results: Logit\n",
      "=======================================================================================================\n",
      "Model:                            Logit                          Pseudo R-squared:               inf   \n",
      "Dependent Variable:               income_>50K                    AIC:                            inf   \n",
      "Date:                             2020-09-25 19:34               BIC:                            inf   \n",
      "No. Observations:                 16281                          Log-Likelihood:                 -inf  \n",
      "Df Model:                         19                             LL-Null:                        0.0000\n",
      "Df Residuals:                     16261                          LLR p-value:                    1.0000\n",
      "Converged:                        0.0000                         Scale:                          1.0000\n",
      "No. Iterations:                   35.0000                                                              \n",
      "-------------------------------------------------------------------------------------------------------\n",
      "                                           Coef.     Std.Err.     z     P>|z|     [0.025       0.975]  \n",
      "-------------------------------------------------------------------------------------------------------\n",
      "occupation_Priv-house-serv                -19.9328   2849.8948  -0.0070 0.9944   -5605.6239   5565.7584\n",
      "education_Preschool                       -22.0512  18746.3462  -0.0012 0.9991  -36764.2145  36720.1121\n",
      "native-country_Outlying-US(Guam-USVI-etc) -18.5709   4949.7658  -0.0038 0.9970   -9719.9335   9682.7918\n",
      "native-country_Laos                       -25.3528 143095.5811  -0.0002 0.9999 -280487.5382 280436.8325\n",
      "education_Doctorate                         1.4097      0.1719   8.2019 0.0000       1.0728      1.7466\n",
      "marital-status_Married-civ-spouse          -0.2221      0.0265  -8.3944 0.0000      -0.2739     -0.1702\n",
      "education_Prof-school                       1.2795      0.1432   8.9353 0.0000       0.9988      1.5602\n",
      "relationship_Own-child                     -4.2778      0.1729 -24.7485 0.0000      -4.6166     -3.9390\n",
      "native-country_Haiti                       -2.8353      1.0347  -2.7403 0.0061      -4.8633     -0.8074\n",
      "native-country_Columbia                    -2.5028      0.7522  -3.3274 0.0009      -3.9770     -1.0285\n",
      "education_9th                              -2.4725      0.2882  -8.5790 0.0000      -3.0374     -1.9077\n",
      "marital-status_Married-AF-spouse           -0.5561      0.6261  -0.8882 0.3745      -1.7833      0.6711\n",
      "native-country_Mexico                      -2.3053      0.2345  -9.8287 0.0000      -2.7650     -1.8456\n",
      "native-country_Nicaragua                   -2.4352      1.0411  -2.3391 0.0193      -4.4756     -0.3947\n",
      "native-country_Ecuador                     -2.0378      1.0579  -1.9262 0.0541      -4.1113      0.0357\n",
      "education_Masters                           0.4906      0.0724   6.7749 0.0000       0.3487      0.6326\n",
      "native-country_Vietnam                     -2.5620      0.7383  -3.4701 0.0005      -4.0091     -1.1149\n",
      "race_Other                                 -2.3457      0.3726  -6.2952 0.0000      -3.0761     -1.6154\n",
      "education_Bachelors                        -0.0365      0.0436  -0.8353 0.4036      -0.1220      0.0491\n",
      "native-country_Yugoslavia                   1.0368      0.9720   1.0667 0.2861      -0.8683      2.9418\n",
      "=======================================================================================================\n",
      "\n"
     ]
    }
   ],
   "source": [
    "X = top_20                         # all features exzcept DV\n",
    "\n",
    "X_train = df_train[X]              #features\n",
    "y_train = df_train['income_>50K']   #target variable\n",
    "\n",
    "X_test = df_test[X]                #features\n",
    "y_test = df_test['income_>50K']     #target variable\n",
    "\n",
    "import statsmodels.api as sm\n",
    "logit_model=sm.Logit(y_train,X_train)             \n",
    "result=logit_model.fit()\n",
    "print(result.summary2())"
   ]
  },
  {
   "cell_type": "code",
   "execution_count": 57,
   "metadata": {
    "scrolled": true
   },
   "outputs": [
    {
     "name": "stdout",
     "output_type": "stream",
     "text": [
      "Optimization terminated successfully.\n",
      "         Current function value: inf\n",
      "         Iterations 8\n",
      "                                  Results: Logit\n",
      "==================================================================================\n",
      "Model:                     Logit                   Pseudo R-squared:        inf   \n",
      "Dependent Variable:        income_>50K             AIC:                     inf   \n",
      "Date:                      2020-09-25 19:34        BIC:                     inf   \n",
      "No. Observations:          16281                   Log-Likelihood:          -inf  \n",
      "Df Model:                  11                      LL-Null:                 0.0000\n",
      "Df Residuals:              16269                   LLR p-value:             1.0000\n",
      "Converged:                 1.0000                  Scale:                   1.0000\n",
      "No. Iterations:            8.0000                                                 \n",
      "----------------------------------------------------------------------------------\n",
      "                                   Coef.  Std.Err.    z     P>|z|   [0.025  0.975]\n",
      "----------------------------------------------------------------------------------\n",
      "education_Doctorate                1.4190   0.1718   8.2586 0.0000  1.0822  1.7558\n",
      "marital-status_Married-civ-spouse -0.2343   0.0248  -9.4400 0.0000 -0.2829 -0.1856\n",
      "education_Prof-school              1.2897   0.1431   9.0123 0.0000  1.0092  1.5702\n",
      "relationship_Own-child            -4.2861   0.1728 -24.8091 0.0000 -4.6247 -3.9475\n",
      "native-country_Haiti              -2.8827   1.0327  -2.7915 0.0052 -4.9067 -0.8587\n",
      "native-country_Columbia           -2.5032   0.7523  -3.3275 0.0009 -3.9777 -1.0288\n",
      "education_9th                     -2.4775   0.2877  -8.6109 0.0000 -3.0414 -1.9136\n",
      "native-country_Mexico             -2.3745   0.2338 -10.1562 0.0000 -2.8328 -1.9163\n",
      "native-country_Nicaragua          -2.4322   1.0411  -2.3362 0.0195 -4.4727 -0.3917\n",
      "education_Masters                  0.4932   0.0721   6.8380 0.0000  0.3518  0.6346\n",
      "native-country_Vietnam            -2.5671   0.7383  -3.4768 0.0005 -4.0142 -1.1200\n",
      "race_Other                        -2.3867   0.3719  -6.4176 0.0000 -3.1157 -1.6578\n",
      "==================================================================================\n",
      "\n"
     ]
    }
   ],
   "source": [
    "high_p_value = ['occupation_Priv-house-serv', 'education_Preschool', 'native-country_Outlying-US(Guam-USVI-etc)',\n",
    "               'native-country_Laos', 'marital-status_Married-AF-spouse', 'native-country_Ecuador', 'education_Bachelors',\n",
    "               'native-country_Yugoslavia']\n",
    "\n",
    "X = [i for i in top_20 if i not in high_p_value]         # The p-values for most of the variables are smaller than 0.05 \n",
    "\n",
    "X_train = df_train[X]              #features\n",
    "y_train = df_train['income_>50K']   #target variable\n",
    "\n",
    "X_test = df_test[X]                #features\n",
    "y_test = df_test['income_>50K']     #target variable\n",
    "\n",
    "logit_model=sm.Logit(y_train,X_train)             \n",
    "result=logit_model.fit()\n",
    "print(result.summary2())"
   ]
  },
  {
   "cell_type": "markdown",
   "metadata": {},
   "source": [
    "## Fitting the model to the test data"
   ]
  },
  {
   "cell_type": "code",
   "execution_count": 32,
   "metadata": {
    "scrolled": true
   },
   "outputs": [
    {
     "data": {
      "text/plain": [
       "LogisticRegression(C=1.0, class_weight=None, dual=False, fit_intercept=True,\n",
       "                   intercept_scaling=1, l1_ratio=None, max_iter=100,\n",
       "                   multi_class='warn', n_jobs=None, penalty='l2',\n",
       "                   random_state=None, solver='warn', tol=0.0001, verbose=0,\n",
       "                   warm_start=False)"
      ]
     },
     "execution_count": 32,
     "metadata": {},
     "output_type": "execute_result"
    }
   ],
   "source": [
    "from sklearn.linear_model import LogisticRegression\n",
    "from sklearn import metrics\n",
    "\n",
    "logreg = LogisticRegression()\n",
    "logreg.fit(X_train, y_train)"
   ]
  },
  {
   "cell_type": "code",
   "execution_count": 33,
   "metadata": {},
   "outputs": [
    {
     "name": "stdout",
     "output_type": "stream",
     "text": [
      "Accuracy of logistic regression classifier on test set: 0.79\n"
     ]
    }
   ],
   "source": [
    "y_pred = logreg.predict(X_test)\n",
    "print('Accuracy of logistic regression classifier on test set: {:.2f}'.format(logreg.score(X_test, y_test)))"
   ]
  },
  {
   "cell_type": "markdown",
   "metadata": {},
   "source": [
    "##  Confusion Matrix"
   ]
  },
  {
   "cell_type": "code",
   "execution_count": 34,
   "metadata": {},
   "outputs": [
    {
     "name": "stdout",
     "output_type": "stream",
     "text": [
      "[[12256   179]\n",
      " [ 3204   642]]\n"
     ]
    }
   ],
   "source": [
    "from sklearn.metrics import confusion_matrix\n",
    "confusion_matrix = confusion_matrix(y_test, y_pred)\n",
    "print(confusion_matrix)                 #I'm getting 12256+642 correct predictions and 179+3204 incorrect predictions"
   ]
  },
  {
   "cell_type": "markdown",
   "metadata": {},
   "source": [
    "## Precision, Recall, F-measure and Support\n",
    "Precision is the ratio tp / (tp + fp) -- the ability of the classifier to not label a sample as positive if it is negative.\n",
    "Recall is the ratio tp / (tp + fn) -- the ability of the classifier to find all the positive samples.\n",
    "The support is the number of occurrences of each class in y_test."
   ]
  },
  {
   "cell_type": "code",
   "execution_count": 35,
   "metadata": {},
   "outputs": [
    {
     "name": "stdout",
     "output_type": "stream",
     "text": [
      "              precision    recall  f1-score   support\n",
      "\n",
      "           0       0.79      0.99      0.88     12435\n",
      "           1       0.78      0.17      0.28      3846\n",
      "\n",
      "    accuracy                           0.79     16281\n",
      "   macro avg       0.79      0.58      0.58     16281\n",
      "weighted avg       0.79      0.79      0.74     16281\n",
      "\n"
     ]
    }
   ],
   "source": [
    "from sklearn.metrics import classification_report\n",
    "print(classification_report(y_test, y_pred))"
   ]
  },
  {
   "cell_type": "markdown",
   "metadata": {},
   "source": [
    "Interpretation: \n",
    "    \n",
    "Of the entire test set, 79% of the predicted income was correctly labeled.\n",
    "Of the entire test set, 79% of the people with incomes >50K were found."
   ]
  },
  {
   "cell_type": "markdown",
   "metadata": {},
   "source": [
    "## Evaluation of model accuracty with ROC and AUC"
   ]
  },
  {
   "cell_type": "code",
   "execution_count": 36,
   "metadata": {},
   "outputs": [
    {
     "data": {
      "image/png": "[encoded data removed]",
      "text/plain": [
       "<Figure size 720x576 with 1 Axes>"
      ]
     },
     "metadata": {},
     "output_type": "display_data"
    },
    {
     "name": "stdout",
     "output_type": "stream",
     "text": [
      "AUC: 0.812868465683541\n"
     ]
    }
   ],
   "source": [
    "from sklearn.metrics import roc_auc_score\n",
    "from sklearn.metrics import roc_curve, auc\n",
    "logit_roc_auc = roc_auc_score(y_test, logreg.predict(X_test))\n",
    "fpr, tpr, thresholds = roc_curve(y_test, logreg.predict_proba(X_test)[:,1])\n",
    "plt.figure(figsize=(10,8))\n",
    "plt.plot(fpr, tpr, label='Logistic Regression (area = %0.2f)' % logit_roc_auc)\n",
    "plt.plot([0, 1], [0, 1],'r--')\n",
    "plt.xlim([0.0, 1.0])\n",
    "plt.ylim([0.0, 1.05])\n",
    "plt.xlabel('False Positive Rate (1-Specificity)')\n",
    "plt.ylabel('True Positive Rate (Sensitivity)')\n",
    "plt.title('Receiver Operating Characteristic (ROC) Curve')\n",
    "plt.legend(loc=\"lower right\")\n",
    "plt.savefig('Log_ROC')\n",
    "plt.show()\n",
    "print('AUC: {}'.format(auc(fpr, tpr)))"
   ]
  }
 ],
 "metadata": {
  "kernelspec": {
   "display_name": "Python 3",
   "language": "python",
   "name": "python3"
  },
  "language_info": {
   "codemirror_mode": {
    "name": "ipython",
    "version": 3
   },
   "file_extension": ".py",
   "mimetype": "text/x-python",
   "name": "python",
   "nbconvert_exporter": "python",
   "pygments_lexer": "ipython3",
   "version": "3.7.1"
  }
 },
 "nbformat": 4,
 "nbformat_minor": 2
}
